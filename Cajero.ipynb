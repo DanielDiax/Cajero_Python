{
  "nbformat": 4,
  "nbformat_minor": 0,
  "metadata": {
    "colab": {
      "name": "Cajero.ipynb",
      "provenance": [],
      "collapsed_sections": []
    },
    "kernelspec": {
      "name": "python3",
      "display_name": "Python 3"
    },
    "language_info": {
      "name": "python"
    }
  },
  "cells": [
    {
      "cell_type": "code",
      "source": [
        "opcion = 0\n",
        "saldo = 1200000\n",
        "contrasena = 1122\n",
        "contrasenaDigitada = 0"
      ],
      "metadata": {
        "id": "yTrPw5fjhkEr"
      },
      "execution_count": null,
      "outputs": []
    },
    {
      "cell_type": "code",
      "source": [
        "contrasena\n",
        "\n",
        "print(\"******Cajero ABC******\")\n",
        "print(\"Seleccione la opción que desea ejecutar\")\n",
        "\n",
        "print(\"1: Consultar saldo\")\n",
        "print(\"2: Retirar dinero\")\n",
        "print(\"3: Cambiar contraseña\")\n",
        "print(\"4: Salir\")\n",
        "opcion = int(input(\"Ingrese su opción: \")) \n",
        "\n",
        "contrasenaDigitada = int(input(\"Ingrese su contraseña: \"))\n",
        "if(contrasenaDigitada != contrasena):\n",
        "  print(\"Nega nega La contraseña no coincide\")\n",
        "else:\n",
        "  if(opcion == 1):\n",
        "\n",
        "    print(\"Su pobreza actual es de : \" + str(saldo))\n",
        "  elif(opcion == 2):\n",
        "\n",
        "    retiro = int(input(\"Ingrese la cantidad que se va a perder :((\"))\n",
        "    if(retiro > saldo):\n",
        "      print(\"Usted no tiene tanta plata, deje de inventar: \")\n",
        "    else:  \n",
        "      modulo = retiro%100000\n",
        "      cien = (retiro - modulo)//100000\n",
        "      print(\"Billetes de cienmil \" + str(cien))\n",
        "      cincuenta = (modulo - modulo%50000)//50000\n",
        "      print(\"Billetes de cincuenta \" + str(cincuenta))\n",
        "      modulo = modulo%50000\n",
        "      veintemil = (modulo - modulo%20000)//20000\n",
        "      print(\"Billetes de veintemil \" + str(veintemil))\n",
        "      modulo = modulo%20000\n",
        "      diezmil = (modulo - modulo%10000)//10000\n",
        "      print(\"Billetes de diezmil \" + str(diezmil))\n",
        "      modulo = modulo%10000\n",
        "      cincomil = (modulo - modulo%5000)//5000\n",
        "      print(\"Billetes de cincomil \" + str(cincomil))\n",
        "      modulo = modulo%5000\n",
        "      dosmil = (modulo - modulo%2000)//2000\n",
        "      print(\"Billetes de dosmil \" + str(dosmil))\n",
        "      modulo = modulo%2000\n",
        "      mil = (modulo - modulo%1000)//1000\n",
        "      print(\"Billetes de mil \" + str(mil))\n",
        "\n",
        "      saldo = saldo - retiro\n",
        "\n",
        "      print(\"Felicitaciones ahora está más pobre que antes, le quedan: \" + str(saldo))\n",
        "  elif(opcion == 3):\n",
        "    contrasena = int(input(\"ingrese su nueva contraseña: \"))\n",
        "    print(\"Su nueva contraseña \")\n",
        "\n",
        "  else:\n",
        "    print(\"La buena parce se cuida :)\")\n",
        "\n",
        "\n"
      ],
      "metadata": {
        "colab": {
          "base_uri": "https://localhost:8080/"
        },
        "id": "6NY15ZvpjGOZ",
        "outputId": "060cce52-ed8b-40c2-edf0-2ea7413764d5"
      },
      "execution_count": null,
      "outputs": [
        {
          "output_type": "stream",
          "name": "stdout",
          "text": [
            "******Cajero ABC******\n",
            "Seleccione la opción que desea ejecutar\n",
            "1: Consultar saldo\n",
            "2: Retirar dinero\n",
            "3: Cambiar contraseña\n",
            "4: Salir\n",
            "Ingrese su opción: 2\n",
            "Ingrese su contraseña: 1122\n",
            "Ingrese la cantidad que se va a perder :((563000\n",
            "Billetes de cienmil 5\n",
            "Billetes de cincuenta 1\n",
            "Billetes de veintemil 0\n",
            "Billetes de diezmil 1\n",
            "Billetes de cincomil 0\n",
            "Billetes de dosmil 1\n",
            "Billetes de mil 1\n",
            "Felicitaciones ahora está más pobre que antes, le quedan: 637000\n"
          ]
        }
      ]
    },
    {
      "cell_type": "code",
      "source": [
        "retiro = 250000\n",
        "\n",
        "modulo = retiro%100000\n",
        "\n",
        "modulo"
      ],
      "metadata": {
        "colab": {
          "base_uri": "https://localhost:8080/"
        },
        "id": "Zx4Xuj2OjK8-",
        "outputId": "6bfd46e1-f352-4f10-9bb6-9f3cd86981b9"
      },
      "execution_count": null,
      "outputs": [
        {
          "output_type": "execute_result",
          "data": {
            "text/plain": [
              "50000"
            ]
          },
          "metadata": {},
          "execution_count": 6
        }
      ]
    }
  ]
}